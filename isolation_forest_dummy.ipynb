{
 "cells": [
  {
   "cell_type": "code",
   "execution_count": 3,
   "id": "complex-vegetation",
   "metadata": {},
   "outputs": [],
   "source": [
    "import numpy as np\n",
    "import pandas as pd\n",
    "import matplotlib.pyplot as plt\n",
    "from sklearn.ensemble import IsolationForest"
   ]
  },
  {
   "cell_type": "code",
   "execution_count": 43,
   "id": "perceived-conflict",
   "metadata": {},
   "outputs": [],
   "source": [
    "rng = np.random.RandomState(42)"
   ]
  },
  {
   "cell_type": "code",
   "execution_count": 44,
   "id": "indian-customs",
   "metadata": {},
   "outputs": [],
   "source": [
    "#training set\n",
    "\n",
    "X_train = 0.2 * rng.randn(1000,2)\n",
    "X_train = np.r_[X_train+3, X_train]\n",
    "X_train = pd.DataFrame(X_train, columns = ['x1', 'x2'])"
   ]
  },
  {
   "cell_type": "code",
   "execution_count": 45,
   "id": "absent-europe",
   "metadata": {},
   "outputs": [],
   "source": [
    "#testing set (normal observations)\n",
    "X_test = 0.2 * rng.randn(200,2)\n",
    "X_test = np.r_[X_test+3, X_test]\n",
    "X_test = pd.DataFrame(X_test, columns = ['x1', 'x2'])"
   ]
  },
  {
   "cell_type": "code",
   "execution_count": 46,
   "id": "welsh-bathroom",
   "metadata": {},
   "outputs": [],
   "source": [
    "#outliers generation\n",
    "x_outliers = rng.uniform(low = -1, high = 5, size = (50,2))\n",
    "x_outliers = pd.DataFrame(x_outliers, columns = ['x1', 'x2'])\n"
   ]
  },
  {
   "cell_type": "code",
   "execution_count": 47,
   "id": "competitive-xerox",
   "metadata": {},
   "outputs": [
    {
     "name": "stdout",
     "output_type": "stream",
     "text": [
      "True\n"
     ]
    },
    {
     "data": {
      "image/png": "[encoded data removed]",
      "text/plain": [
       "<Figure size 432x288 with 1 Axes>"
      ]
     },
     "metadata": {
      "needs_background": "light"
     },
     "output_type": "display_data"
    }
   ],
   "source": [
    "ax1 = X_train.plot(kind='scatter', x='x1', y='x2', color='r')    \n",
    "ax2 = X_test.plot(kind='scatter', x='x1', y='x2', color='g', ax=ax1)    \n",
    "ax3 = x_outliers.plot(kind='scatter', x='x1', y='x2', color='b', ax=ax1)\n",
    "\n",
    "print(ax1 == ax2 == ax3)"
   ]
  },
  {
   "cell_type": "code",
   "execution_count": 48,
   "id": "present-standard",
   "metadata": {},
   "outputs": [
    {
     "data": {
      "text/plain": [
       "IsolationForest(max_samples=100,\n",
       "                random_state=RandomState(MT19937) at 0x7F3AB8F76E40)"
      ]
     },
     "execution_count": 48,
     "metadata": {},
     "output_type": "execute_result"
    }
   ],
   "source": [
    "# training the model on isolation Forest\n",
    "clf = IsolationForest(max_samples = 100, random_state= rng)\n",
    "clf.fit(X_train)"
   ]
  },
  {
   "cell_type": "code",
   "execution_count": 49,
   "id": "future-arbitration",
   "metadata": {},
   "outputs": [],
   "source": [
    "#predictions\n",
    "y_pred_train = clf.predict(X_train)\n",
    "y_pred_test = clf.predict(X_test)\n",
    "y_pred_outliers = clf.predict(x_outliers)"
   ]
  },
  {
   "cell_type": "code",
   "execution_count": 50,
   "id": "fluid-component",
   "metadata": {},
   "outputs": [
    {
     "data": {
      "text/plain": [
       "array([ 1, -1,  1, ...,  1,  1,  1])"
      ]
     },
     "execution_count": 50,
     "metadata": {},
     "output_type": "execute_result"
    }
   ],
   "source": [
    "y_pred_train"
   ]
  },
  {
   "cell_type": "code",
   "execution_count": 51,
   "id": "raised-merit",
   "metadata": {},
   "outputs": [
    {
     "name": "stdout",
     "output_type": "stream",
     "text": [
      "Accuracy 0.575\n"
     ]
    }
   ],
   "source": [
    "# performance metrics\n",
    "print(\"Accuracy\",list(y_pred_test).count(1)/y_pred_test.shape[0])"
   ]
  },
  {
   "cell_type": "code",
   "execution_count": 52,
   "id": "crazy-breathing",
   "metadata": {},
   "outputs": [
    {
     "name": "stdout",
     "output_type": "stream",
     "text": [
      "Acuuracy_outliers 0.98\n"
     ]
    }
   ],
   "source": [
    "print(\"Acuuracy_outliers\", list(y_pred_outliers).count(-1)/y_pred_outliers.shape[0])"
   ]
  },
  {
   "cell_type": "code",
   "execution_count": null,
   "id": "toxic-assumption",
   "metadata": {},
   "outputs": [],
   "source": []
  }
 ],
 "metadata": {
  "kernelspec": {
   "display_name": "Python 3",
   "language": "python",
   "name": "python3"
  },
  "language_info": {
   "codemirror_mode": {
    "name": "ipython",
    "version": 3
   },
   "file_extension": ".py",
   "mimetype": "text/x-python",
   "name": "python",
   "nbconvert_exporter": "python",
   "pygments_lexer": "ipython3",
   "version": "3.10.0"
  }
 },
 "nbformat": 4,
 "nbformat_minor": 5
}
